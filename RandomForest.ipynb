{
 "cells": [
  {
   "cell_type": "code",
   "execution_count": 1,
   "metadata": {},
   "outputs": [],
   "source": [
    "import numpy as np\n",
    "import matplotlib.pyplot as plt\n",
    "import pandas as pd"
   ]
  },
  {
   "cell_type": "code",
   "execution_count": 2,
   "metadata": {},
   "outputs": [],
   "source": [
    "path = \"https://dataminingjcomponent.s3.us-east-2.amazonaws.com/prjecte.csv\""
   ]
  },
  {
   "cell_type": "code",
   "execution_count": 3,
   "metadata": {},
   "outputs": [],
   "source": [
    "dataset = pd.read_csv(path)"
   ]
  },
  {
   "cell_type": "code",
   "execution_count": 5,
   "metadata": {},
   "outputs": [],
   "source": [
    "dataset['Budget'] = dataset['Budget'].str.replace(',','')\n",
    "dataset['Gross'] = dataset['Gross'].str.replace(',','')\n",
    "dataset['Runtime'] = dataset['Runtime'].str.replace('min','')"
   ]
  },
  {
   "cell_type": "code",
   "execution_count": 6,
   "metadata": {},
   "outputs": [],
   "source": [
    "dataset['Runtime'] = dataset['Runtime'].astype(float)\n",
    "dataset['Gross'] = dataset['Gross'].astype(float)\n",
    "dataset['Budget'] = dataset['Budget'].astype(float)"
   ]
  },
  {
   "cell_type": "code",
   "execution_count": 7,
   "metadata": {},
   "outputs": [
    {
     "data": {
      "text/html": [
       "<div>\n",
       "<style scoped>\n",
       "    .dataframe tbody tr th:only-of-type {\n",
       "        vertical-align: middle;\n",
       "    }\n",
       "\n",
       "    .dataframe tbody tr th {\n",
       "        vertical-align: top;\n",
       "    }\n",
       "\n",
       "    .dataframe thead th {\n",
       "        text-align: right;\n",
       "    }\n",
       "</style>\n",
       "<table border=\"1\" class=\"dataframe\">\n",
       "  <thead>\n",
       "    <tr style=\"text-align: right;\">\n",
       "      <th></th>\n",
       "      <th>id</th>\n",
       "      <th>Year</th>\n",
       "      <th>Runtime</th>\n",
       "      <th>Budget</th>\n",
       "      <th>Gross</th>\n",
       "      <th>Ratings</th>\n",
       "      <th>Actors_code</th>\n",
       "      <th>Dir_code</th>\n",
       "      <th>Prod_code</th>\n",
       "      <th>Story_code</th>\n",
       "      <th>Genre_code</th>\n",
       "      <th>Lang_code</th>\n",
       "      <th>Label</th>\n",
       "    </tr>\n",
       "  </thead>\n",
       "  <tbody>\n",
       "    <tr>\n",
       "      <th>0</th>\n",
       "      <td>1</td>\n",
       "      <td>1919</td>\n",
       "      <td>155.0</td>\n",
       "      <td>190000000.0</td>\n",
       "      <td>19235000.0</td>\n",
       "      <td>6.6</td>\n",
       "      <td>1062</td>\n",
       "      <td>765</td>\n",
       "      <td>449</td>\n",
       "      <td>984</td>\n",
       "      <td>4</td>\n",
       "      <td>2</td>\n",
       "      <td>Hit</td>\n",
       "    </tr>\n",
       "    <tr>\n",
       "      <th>1</th>\n",
       "      <td>2</td>\n",
       "      <td>1922</td>\n",
       "      <td>140.0</td>\n",
       "      <td>720000000.0</td>\n",
       "      <td>844400000.0</td>\n",
       "      <td>6.9</td>\n",
       "      <td>548</td>\n",
       "      <td>469</td>\n",
       "      <td>129</td>\n",
       "      <td>531</td>\n",
       "      <td>4</td>\n",
       "      <td>5</td>\n",
       "      <td>Hit</td>\n",
       "    </tr>\n",
       "    <tr>\n",
       "      <th>2</th>\n",
       "      <td>3</td>\n",
       "      <td>1929</td>\n",
       "      <td>124.0</td>\n",
       "      <td>95000000.0</td>\n",
       "      <td>65872500.0</td>\n",
       "      <td>7.0</td>\n",
       "      <td>70</td>\n",
       "      <td>70</td>\n",
       "      <td>33</td>\n",
       "      <td>70</td>\n",
       "      <td>40</td>\n",
       "      <td>2</td>\n",
       "      <td>Hit</td>\n",
       "    </tr>\n",
       "    <tr>\n",
       "      <th>3</th>\n",
       "      <td>4</td>\n",
       "      <td>1929</td>\n",
       "      <td>139.0</td>\n",
       "      <td>193963699.0</td>\n",
       "      <td>308967895.0</td>\n",
       "      <td>7.0</td>\n",
       "      <td>70</td>\n",
       "      <td>70</td>\n",
       "      <td>675</td>\n",
       "      <td>70</td>\n",
       "      <td>40</td>\n",
       "      <td>2</td>\n",
       "      <td>Hit</td>\n",
       "    </tr>\n",
       "    <tr>\n",
       "      <th>4</th>\n",
       "      <td>5</td>\n",
       "      <td>1930</td>\n",
       "      <td>109.0</td>\n",
       "      <td>35000000.0</td>\n",
       "      <td>11200000.0</td>\n",
       "      <td>6.6</td>\n",
       "      <td>91</td>\n",
       "      <td>91</td>\n",
       "      <td>38</td>\n",
       "      <td>91</td>\n",
       "      <td>21</td>\n",
       "      <td>2</td>\n",
       "      <td>Hit</td>\n",
       "    </tr>\n",
       "  </tbody>\n",
       "</table>\n",
       "</div>"
      ],
      "text/plain": [
       "   id  Year  Runtime       Budget        Gross  Ratings  Actors_code  \\\n",
       "0   1  1919    155.0  190000000.0   19235000.0      6.6         1062   \n",
       "1   2  1922    140.0  720000000.0  844400000.0      6.9          548   \n",
       "2   3  1929    124.0   95000000.0   65872500.0      7.0           70   \n",
       "3   4  1929    139.0  193963699.0  308967895.0      7.0           70   \n",
       "4   5  1930    109.0   35000000.0   11200000.0      6.6           91   \n",
       "\n",
       "   Dir_code  Prod_code  Story_code  Genre_code  Lang_code Label  \n",
       "0       765        449         984           4          2   Hit  \n",
       "1       469        129         531           4          5   Hit  \n",
       "2        70         33          70          40          2   Hit  \n",
       "3        70        675          70          40          2   Hit  \n",
       "4        91         38          91          21          2   Hit  "
      ]
     },
     "execution_count": 7,
     "metadata": {},
     "output_type": "execute_result"
    }
   ],
   "source": [
    "dataset.head()"
   ]
  },
  {
   "cell_type": "code",
   "execution_count": 9,
   "metadata": {},
   "outputs": [],
   "source": [
    "X = dataset.iloc[:, :-1].values\n",
    "y = dataset.iloc[:, 12].values"
   ]
  },
  {
   "cell_type": "code",
   "execution_count": 18,
   "metadata": {},
   "outputs": [],
   "source": [
    "# Training and testing the model by 70 30 ratio\n",
    "from sklearn.model_selection import train_test_split\n",
    "X_train, X_test, y_train, y_test = train_test_split(X, y, test_size = 0.30)"
   ]
  },
  {
   "cell_type": "code",
   "execution_count": 19,
   "metadata": {},
   "outputs": [
    {
     "data": {
      "text/plain": [
       "RandomForestClassifier(bootstrap=True, ccp_alpha=0.0, class_weight=None,\n",
       "                       criterion='gini', max_depth=None, max_features='auto',\n",
       "                       max_leaf_nodes=None, max_samples=None,\n",
       "                       min_impurity_decrease=0.0, min_impurity_split=None,\n",
       "                       min_samples_leaf=1, min_samples_split=2,\n",
       "                       min_weight_fraction_leaf=0.0, n_estimators=50,\n",
       "                       n_jobs=None, oob_score=False, random_state=None,\n",
       "                       verbose=0, warm_start=False)"
      ]
     },
     "execution_count": 19,
     "metadata": {},
     "output_type": "execute_result"
    }
   ],
   "source": [
    "from sklearn.ensemble import RandomForestClassifier\n",
    "classifier = RandomForestClassifier(n_estimators = 50)\n",
    "classifier.fit(X_train, y_train)"
   ]
  },
  {
   "cell_type": "code",
   "execution_count": 20,
   "metadata": {},
   "outputs": [],
   "source": [
    "y_pred = classifier.predict(X_test)"
   ]
  },
  {
   "cell_type": "code",
   "execution_count": 21,
   "metadata": {},
   "outputs": [
    {
     "name": "stdout",
     "output_type": "stream",
     "text": [
      "Confusion Matrix:\n",
      "[[152   0   0]\n",
      " [  0 379   0]\n",
      " [  0   2  25]]\n",
      "Classification Report:\n",
      "              precision    recall  f1-score   support\n",
      "\n",
      "        Flop       1.00      1.00      1.00       152\n",
      "         Hit       0.99      1.00      1.00       379\n",
      "   Super Hit       1.00      0.93      0.96        27\n",
      "\n",
      "    accuracy                           1.00       558\n",
      "   macro avg       1.00      0.98      0.99       558\n",
      "weighted avg       1.00      1.00      1.00       558\n",
      "\n",
      "Accuracy: 0.996415770609319\n"
     ]
    }
   ],
   "source": [
    "from sklearn.metrics import classification_report, confusion_matrix, accuracy_score\n",
    "result = confusion_matrix(y_test, y_pred)\n",
    "print(\"Confusion Matrix:\")\n",
    "print(result)\n",
    "result1 = classification_report(y_test, y_pred)\n",
    "print(\"Classification Report:\",)\n",
    "print (result1)\n",
    "result2 = accuracy_score(y_test,y_pred)\n",
    "print(\"Accuracy:\",result2)"
   ]
  },
  {
   "cell_type": "code",
   "execution_count": null,
   "metadata": {},
   "outputs": [],
   "source": []
  }
 ],
 "metadata": {
  "kernelspec": {
   "display_name": "Python 3",
   "language": "python",
   "name": "python3"
  },
  "language_info": {
   "codemirror_mode": {
    "name": "ipython",
    "version": 3
   },
   "file_extension": ".py",
   "mimetype": "text/x-python",
   "name": "python",
   "nbconvert_exporter": "python",
   "pygments_lexer": "ipython3",
   "version": "3.7.6"
  }
 },
 "nbformat": 4,
 "nbformat_minor": 4
}
